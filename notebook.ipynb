{
  "cells": [
    {
      "cell_type": "markdown",
      "metadata": {
        "id": "H9wADwK78DCz"
      },
      "source": [
        "# Proyek Analisis Data: E-Commerce Public Dataset\n",
        "- **Nama:** Kevin Junus Ketti\n",
        "- **Email:** kevinketti218@gmail.com\n",
        "- **ID Dicoding:** kevinjunusketti"
      ]
    },
    {
      "cell_type": "markdown",
      "metadata": {
        "id": "eE0raob58DC0"
      },
      "source": [
        "### Menentukan Pertanyaan Bisnis"
      ]
    },
    {
      "cell_type": "markdown",
      "metadata": {
        "id": "GmQeQ5YF8DC0"
      },
      "source": [
        "- Pada bulan apa mencapai penjualan product terbanyak pada tahun 2017?\n",
        "- Apa saja 10 kategori produk yang paling banyak terjual pada bulan juli tahun 2018?\n",
        "- Bagaimana perkembangan rata-rata tingkat kepuasan yang diberikan customer setiap tahun?\n",
        "\n",
        "\n"
      ]
    },
    {
      "cell_type": "markdown",
      "metadata": {
        "id": "H-z4QGlO8DC1"
      },
      "source": [
        "## Import Semua Packages/Library yang Digunakan"
      ]
    },
    {
      "cell_type": "code",
      "execution_count": 2,
      "metadata": {
        "id": "FVYwaObI8DC1"
      },
      "outputs": [],
      "source": [
        "import pandas as pd\n",
        "import matplotlib.pyplot as plt"
      ]
    },
    {
      "cell_type": "markdown",
      "metadata": {
        "id": "h_Sh51Xy8DC1"
      },
      "source": [
        "## Data Wrangling"
      ]
    },
    {
      "cell_type": "markdown",
      "metadata": {
        "id": "sXU2GBYu8DC1"
      },
      "source": [
        "### Gathering Data"
      ]
    },
    {
      "cell_type": "markdown",
      "metadata": {
        "id": "QOAihj25OsUW"
      },
      "source": [
        "- Mengumpulkan data yang diperlukan"
      ]
    },
    {
      "cell_type": "code",
      "execution_count": 3,
      "metadata": {
        "id": "zjCBk1BI8DC1"
      },
      "outputs": [
        {
          "name": "stderr",
          "output_type": "stream",
          "text": [
            "<>:1: SyntaxWarning: invalid escape sequence '\\p'\n",
            "<>:2: SyntaxWarning: invalid escape sequence '\\o'\n",
            "<>:3: SyntaxWarning: invalid escape sequence '\\o'\n",
            "<>:4: SyntaxWarning: invalid escape sequence '\\o'\n",
            "<>:5: SyntaxWarning: invalid escape sequence '\\p'\n",
            "<>:1: SyntaxWarning: invalid escape sequence '\\p'\n",
            "<>:2: SyntaxWarning: invalid escape sequence '\\o'\n",
            "<>:3: SyntaxWarning: invalid escape sequence '\\o'\n",
            "<>:4: SyntaxWarning: invalid escape sequence '\\o'\n",
            "<>:5: SyntaxWarning: invalid escape sequence '\\p'\n",
            "C:\\Users\\ACER 2022\\AppData\\Local\\Temp\\ipykernel_13444\\1837402908.py:1: SyntaxWarning: invalid escape sequence '\\p'\n",
            "  df_products = pd.read_csv('data\\products_dataset.csv')\n",
            "C:\\Users\\ACER 2022\\AppData\\Local\\Temp\\ipykernel_13444\\1837402908.py:2: SyntaxWarning: invalid escape sequence '\\o'\n",
            "  df_order_item = pd.read_csv('data\\order_items_dataset.csv')\n",
            "C:\\Users\\ACER 2022\\AppData\\Local\\Temp\\ipykernel_13444\\1837402908.py:3: SyntaxWarning: invalid escape sequence '\\o'\n",
            "  df_orders = pd.read_csv('data\\orders_dataset.csv')\n",
            "C:\\Users\\ACER 2022\\AppData\\Local\\Temp\\ipykernel_13444\\1837402908.py:4: SyntaxWarning: invalid escape sequence '\\o'\n",
            "  df_order_reviews = pd.read_csv('data\\order_reviews_dataset.csv')\n",
            "C:\\Users\\ACER 2022\\AppData\\Local\\Temp\\ipykernel_13444\\1837402908.py:5: SyntaxWarning: invalid escape sequence '\\p'\n",
            "  df_product_translate_name = pd.read_csv('data\\product_category_name_translation.csv')\n"
          ]
        }
      ],
      "source": [
        "df_products = pd.read_csv('data\\products_dataset.csv')\n",
        "df_order_item = pd.read_csv('data\\order_items_dataset.csv')\n",
        "df_orders = pd.read_csv('data\\orders_dataset.csv')\n",
        "df_order_reviews = pd.read_csv('data\\order_reviews_dataset.csv')\n",
        "df_product_translate_name = pd.read_csv('data\\product_category_name_translation.csv')"
      ]
    },
    {
      "cell_type": "markdown",
      "metadata": {
        "id": "FHSiqaZp8DC1"
      },
      "source": [
        "### Assessing Data"
      ]
    },
    {
      "cell_type": "markdown",
      "metadata": {
        "id": "TamigA3DPIME"
      },
      "source": [
        "#### 1. Data Produk"
      ]
    },
    {
      "cell_type": "markdown",
      "metadata": {
        "id": "rfcuHHo9PUe-"
      },
      "source": [
        "- menampilkan contoh 5 data"
      ]
    },
    {
      "cell_type": "code",
      "execution_count": 4,
      "metadata": {
        "colab": {
          "base_uri": "https://localhost:8080/"
        },
        "id": "ax-3tEjc9Cj1",
        "outputId": "4707b2c7-4eb0-41da-f0d5-046dfd237109"
      },
      "outputs": [
        {
          "data": {
            "text/html": [
              "<div>\n",
              "<style scoped>\n",
              "    .dataframe tbody tr th:only-of-type {\n",
              "        vertical-align: middle;\n",
              "    }\n",
              "\n",
              "    .dataframe tbody tr th {\n",
              "        vertical-align: top;\n",
              "    }\n",
              "\n",
              "    .dataframe thead th {\n",
              "        text-align: right;\n",
              "    }\n",
              "</style>\n",
              "<table border=\"1\" class=\"dataframe\">\n",
              "  <thead>\n",
              "    <tr style=\"text-align: right;\">\n",
              "      <th></th>\n",
              "      <th>product_id</th>\n",
              "      <th>product_category_name</th>\n",
              "      <th>product_name_lenght</th>\n",
              "      <th>product_description_lenght</th>\n",
              "      <th>product_photos_qty</th>\n",
              "      <th>product_weight_g</th>\n",
              "      <th>product_length_cm</th>\n",
              "      <th>product_height_cm</th>\n",
              "      <th>product_width_cm</th>\n",
              "    </tr>\n",
              "  </thead>\n",
              "  <tbody>\n",
              "    <tr>\n",
              "      <th>0</th>\n",
              "      <td>1e9e8ef04dbcff4541ed26657ea517e5</td>\n",
              "      <td>perfumaria</td>\n",
              "      <td>40.0</td>\n",
              "      <td>287.0</td>\n",
              "      <td>1.0</td>\n",
              "      <td>225.0</td>\n",
              "      <td>16.0</td>\n",
              "      <td>10.0</td>\n",
              "      <td>14.0</td>\n",
              "    </tr>\n",
              "    <tr>\n",
              "      <th>1</th>\n",
              "      <td>3aa071139cb16b67ca9e5dea641aaa2f</td>\n",
              "      <td>artes</td>\n",
              "      <td>44.0</td>\n",
              "      <td>276.0</td>\n",
              "      <td>1.0</td>\n",
              "      <td>1000.0</td>\n",
              "      <td>30.0</td>\n",
              "      <td>18.0</td>\n",
              "      <td>20.0</td>\n",
              "    </tr>\n",
              "    <tr>\n",
              "      <th>2</th>\n",
              "      <td>96bd76ec8810374ed1b65e291975717f</td>\n",
              "      <td>esporte_lazer</td>\n",
              "      <td>46.0</td>\n",
              "      <td>250.0</td>\n",
              "      <td>1.0</td>\n",
              "      <td>154.0</td>\n",
              "      <td>18.0</td>\n",
              "      <td>9.0</td>\n",
              "      <td>15.0</td>\n",
              "    </tr>\n",
              "    <tr>\n",
              "      <th>3</th>\n",
              "      <td>cef67bcfe19066a932b7673e239eb23d</td>\n",
              "      <td>bebes</td>\n",
              "      <td>27.0</td>\n",
              "      <td>261.0</td>\n",
              "      <td>1.0</td>\n",
              "      <td>371.0</td>\n",
              "      <td>26.0</td>\n",
              "      <td>4.0</td>\n",
              "      <td>26.0</td>\n",
              "    </tr>\n",
              "    <tr>\n",
              "      <th>4</th>\n",
              "      <td>9dc1a7de274444849c219cff195d0b71</td>\n",
              "      <td>utilidades_domesticas</td>\n",
              "      <td>37.0</td>\n",
              "      <td>402.0</td>\n",
              "      <td>4.0</td>\n",
              "      <td>625.0</td>\n",
              "      <td>20.0</td>\n",
              "      <td>17.0</td>\n",
              "      <td>13.0</td>\n",
              "    </tr>\n",
              "  </tbody>\n",
              "</table>\n",
              "</div>"
            ],
            "text/plain": [
              "                         product_id  product_category_name  \\\n",
              "0  1e9e8ef04dbcff4541ed26657ea517e5             perfumaria   \n",
              "1  3aa071139cb16b67ca9e5dea641aaa2f                  artes   \n",
              "2  96bd76ec8810374ed1b65e291975717f          esporte_lazer   \n",
              "3  cef67bcfe19066a932b7673e239eb23d                  bebes   \n",
              "4  9dc1a7de274444849c219cff195d0b71  utilidades_domesticas   \n",
              "\n",
              "   product_name_lenght  product_description_lenght  product_photos_qty  \\\n",
              "0                 40.0                       287.0                 1.0   \n",
              "1                 44.0                       276.0                 1.0   \n",
              "2                 46.0                       250.0                 1.0   \n",
              "3                 27.0                       261.0                 1.0   \n",
              "4                 37.0                       402.0                 4.0   \n",
              "\n",
              "   product_weight_g  product_length_cm  product_height_cm  product_width_cm  \n",
              "0             225.0               16.0               10.0              14.0  \n",
              "1            1000.0               30.0               18.0              20.0  \n",
              "2             154.0               18.0                9.0              15.0  \n",
              "3             371.0               26.0                4.0              26.0  \n",
              "4             625.0               20.0               17.0              13.0  "
            ]
          },
          "metadata": {},
          "output_type": "display_data"
        }
      ],
      "source": [
        "display(df_products.head(5))"
      ]
    },
    {
      "cell_type": "markdown",
      "metadata": {
        "id": "7dtxhAPrkhPL"
      },
      "source": [
        "- menampilkan jumlah data"
      ]
    },
    {
      "cell_type": "code",
      "execution_count": 5,
      "metadata": {
        "colab": {
          "base_uri": "https://localhost:8080/"
        },
        "id": "xv6uwvx0QPyN",
        "outputId": "50962b41-7e4f-417e-b4c1-be4250af2603"
      },
      "outputs": [
        {
          "name": "stdout",
          "output_type": "stream",
          "text": [
            "Jumlah data produk : 32951\n"
          ]
        }
      ],
      "source": [
        "print(\"Jumlah data produk :\",len(df_products.index))"
      ]
    },
    {
      "cell_type": "markdown",
      "metadata": {
        "id": "Ll5h2LjjQpdx"
      },
      "source": [
        "- cek apakah pdocut_id unique"
      ]
    },
    {
      "cell_type": "code",
      "execution_count": 6,
      "metadata": {
        "colab": {
          "base_uri": "https://localhost:8080/"
        },
        "id": "tmWzE8qIRG7A",
        "outputId": "693252d9-b890-48d1-9a89-c941b2a41f68"
      },
      "outputs": [
        {
          "name": "stdout",
          "output_type": "stream",
          "text": [
            "Jumlah product_id duplicate: 0\n"
          ]
        }
      ],
      "source": [
        "print(\"Jumlah product_id duplicate:\",df_products['product_id'].duplicated().sum())"
      ]
    },
    {
      "cell_type": "markdown",
      "metadata": {
        "id": "t68Zq7h5R5ff"
      },
      "source": [
        "- cek apakah ada data null"
      ]
    },
    {
      "cell_type": "code",
      "execution_count": 7,
      "metadata": {
        "colab": {
          "base_uri": "https://localhost:8080/"
        },
        "id": "FEk6PipQSU2_",
        "outputId": "7779d2ed-c590-40c4-f2c7-ac6fe3dd25c7"
      },
      "outputs": [
        {
          "name": "stdout",
          "output_type": "stream",
          "text": [
            "product_id                      0\n",
            "product_category_name         610\n",
            "product_name_lenght           610\n",
            "product_description_lenght    610\n",
            "product_photos_qty            610\n",
            "product_weight_g                2\n",
            "product_length_cm               2\n",
            "product_height_cm               2\n",
            "product_width_cm                2\n",
            "dtype: int64\n",
            "\n",
            "\n",
            "Jumlah data null: 2448\n"
          ]
        }
      ],
      "source": [
        "print(df_products.isnull().sum())\n",
        "print(\"\\n\")\n",
        "print(\"Jumlah data null:\",df_products.isnull().sum().sum())"
      ]
    },
    {
      "cell_type": "markdown",
      "metadata": {
        "id": "gTxPZus2SHFv"
      },
      "source": [
        "- cek tipe data setiap kolom"
      ]
    },
    {
      "cell_type": "code",
      "execution_count": 8,
      "metadata": {
        "colab": {
          "base_uri": "https://localhost:8080/"
        },
        "id": "CmJxp_Q3SmOW",
        "outputId": "69eea2a0-1c64-42b7-c30a-6df95cf34da4"
      },
      "outputs": [
        {
          "name": "stdout",
          "output_type": "stream",
          "text": [
            "product_id                     object\n",
            "product_category_name          object\n",
            "product_name_lenght           float64\n",
            "product_description_lenght    float64\n",
            "product_photos_qty            float64\n",
            "product_weight_g              float64\n",
            "product_length_cm             float64\n",
            "product_height_cm             float64\n",
            "product_width_cm              float64\n",
            "dtype: object\n"
          ]
        }
      ],
      "source": [
        "print(df_products.dtypes)"
      ]
    },
    {
      "cell_type": "markdown",
      "metadata": {
        "id": "ik7Wy9ezS51L"
      },
      "source": [
        "#### 2. Data Order Item"
      ]
    },
    {
      "cell_type": "markdown",
      "metadata": {
        "id": "psaaFPzeTRwe"
      },
      "source": [
        "- menampilkan contoh 5 data"
      ]
    },
    {
      "cell_type": "code",
      "execution_count": 9,
      "metadata": {
        "colab": {
          "base_uri": "https://localhost:8080/"
        },
        "id": "lAv11O1eTRwf",
        "outputId": "530b77ed-b65d-4ce6-8f06-2aac54652f91"
      },
      "outputs": [
        {
          "data": {
            "text/html": [
              "<div>\n",
              "<style scoped>\n",
              "    .dataframe tbody tr th:only-of-type {\n",
              "        vertical-align: middle;\n",
              "    }\n",
              "\n",
              "    .dataframe tbody tr th {\n",
              "        vertical-align: top;\n",
              "    }\n",
              "\n",
              "    .dataframe thead th {\n",
              "        text-align: right;\n",
              "    }\n",
              "</style>\n",
              "<table border=\"1\" class=\"dataframe\">\n",
              "  <thead>\n",
              "    <tr style=\"text-align: right;\">\n",
              "      <th></th>\n",
              "      <th>order_id</th>\n",
              "      <th>order_item_id</th>\n",
              "      <th>product_id</th>\n",
              "      <th>seller_id</th>\n",
              "      <th>shipping_limit_date</th>\n",
              "      <th>price</th>\n",
              "      <th>freight_value</th>\n",
              "    </tr>\n",
              "  </thead>\n",
              "  <tbody>\n",
              "    <tr>\n",
              "      <th>0</th>\n",
              "      <td>00010242fe8c5a6d1ba2dd792cb16214</td>\n",
              "      <td>1</td>\n",
              "      <td>4244733e06e7ecb4970a6e2683c13e61</td>\n",
              "      <td>48436dade18ac8b2bce089ec2a041202</td>\n",
              "      <td>2017-09-19 09:45:35</td>\n",
              "      <td>58.90</td>\n",
              "      <td>13.29</td>\n",
              "    </tr>\n",
              "    <tr>\n",
              "      <th>1</th>\n",
              "      <td>00018f77f2f0320c557190d7a144bdd3</td>\n",
              "      <td>1</td>\n",
              "      <td>e5f2d52b802189ee658865ca93d83a8f</td>\n",
              "      <td>dd7ddc04e1b6c2c614352b383efe2d36</td>\n",
              "      <td>2017-05-03 11:05:13</td>\n",
              "      <td>239.90</td>\n",
              "      <td>19.93</td>\n",
              "    </tr>\n",
              "    <tr>\n",
              "      <th>2</th>\n",
              "      <td>000229ec398224ef6ca0657da4fc703e</td>\n",
              "      <td>1</td>\n",
              "      <td>c777355d18b72b67abbeef9df44fd0fd</td>\n",
              "      <td>5b51032eddd242adc84c38acab88f23d</td>\n",
              "      <td>2018-01-18 14:48:30</td>\n",
              "      <td>199.00</td>\n",
              "      <td>17.87</td>\n",
              "    </tr>\n",
              "    <tr>\n",
              "      <th>3</th>\n",
              "      <td>00024acbcdf0a6daa1e931b038114c75</td>\n",
              "      <td>1</td>\n",
              "      <td>7634da152a4610f1595efa32f14722fc</td>\n",
              "      <td>9d7a1d34a5052409006425275ba1c2b4</td>\n",
              "      <td>2018-08-15 10:10:18</td>\n",
              "      <td>12.99</td>\n",
              "      <td>12.79</td>\n",
              "    </tr>\n",
              "    <tr>\n",
              "      <th>4</th>\n",
              "      <td>00042b26cf59d7ce69dfabb4e55b4fd9</td>\n",
              "      <td>1</td>\n",
              "      <td>ac6c3623068f30de03045865e4e10089</td>\n",
              "      <td>df560393f3a51e74553ab94004ba5c87</td>\n",
              "      <td>2017-02-13 13:57:51</td>\n",
              "      <td>199.90</td>\n",
              "      <td>18.14</td>\n",
              "    </tr>\n",
              "  </tbody>\n",
              "</table>\n",
              "</div>"
            ],
            "text/plain": [
              "                           order_id  order_item_id  \\\n",
              "0  00010242fe8c5a6d1ba2dd792cb16214              1   \n",
              "1  00018f77f2f0320c557190d7a144bdd3              1   \n",
              "2  000229ec398224ef6ca0657da4fc703e              1   \n",
              "3  00024acbcdf0a6daa1e931b038114c75              1   \n",
              "4  00042b26cf59d7ce69dfabb4e55b4fd9              1   \n",
              "\n",
              "                         product_id                         seller_id  \\\n",
              "0  4244733e06e7ecb4970a6e2683c13e61  48436dade18ac8b2bce089ec2a041202   \n",
              "1  e5f2d52b802189ee658865ca93d83a8f  dd7ddc04e1b6c2c614352b383efe2d36   \n",
              "2  c777355d18b72b67abbeef9df44fd0fd  5b51032eddd242adc84c38acab88f23d   \n",
              "3  7634da152a4610f1595efa32f14722fc  9d7a1d34a5052409006425275ba1c2b4   \n",
              "4  ac6c3623068f30de03045865e4e10089  df560393f3a51e74553ab94004ba5c87   \n",
              "\n",
              "   shipping_limit_date   price  freight_value  \n",
              "0  2017-09-19 09:45:35   58.90          13.29  \n",
              "1  2017-05-03 11:05:13  239.90          19.93  \n",
              "2  2018-01-18 14:48:30  199.00          17.87  \n",
              "3  2018-08-15 10:10:18   12.99          12.79  \n",
              "4  2017-02-13 13:57:51  199.90          18.14  "
            ]
          },
          "metadata": {},
          "output_type": "display_data"
        }
      ],
      "source": [
        "display(df_order_item.head(5))"
      ]
    },
    {
      "cell_type": "markdown",
      "metadata": {
        "id": "J3UldEXrTRwh"
      },
      "source": [
        "- menampilkan jumlah data"
      ]
    },
    {
      "cell_type": "code",
      "execution_count": 10,
      "metadata": {
        "colab": {
          "base_uri": "https://localhost:8080/"
        },
        "id": "5mJqvhh9TRwh",
        "outputId": "53a268ea-46d7-4936-b54a-c999b4089f1a"
      },
      "outputs": [
        {
          "name": "stdout",
          "output_type": "stream",
          "text": [
            "Jumlah data order item : 112650\n"
          ]
        }
      ],
      "source": [
        "print(\"Jumlah data order item :\",len(df_order_item.index))"
      ]
    },
    {
      "cell_type": "markdown",
      "metadata": {
        "id": "6OCrjuyNTRwi"
      },
      "source": [
        "- cek apakah ada data null"
      ]
    },
    {
      "cell_type": "code",
      "execution_count": 11,
      "metadata": {
        "colab": {
          "base_uri": "https://localhost:8080/"
        },
        "id": "T3c9MZtqTRwi",
        "outputId": "513adc6c-820c-4389-d9c2-88bee712e21f"
      },
      "outputs": [
        {
          "name": "stdout",
          "output_type": "stream",
          "text": [
            "order_id               0\n",
            "order_item_id          0\n",
            "product_id             0\n",
            "seller_id              0\n",
            "shipping_limit_date    0\n",
            "price                  0\n",
            "freight_value          0\n",
            "dtype: int64\n",
            "\n",
            "\n",
            "Jumlah data null: 0\n"
          ]
        }
      ],
      "source": [
        "print(df_order_item.isnull().sum())\n",
        "print(\"\\n\")\n",
        "print(\"Jumlah data null:\",df_order_item.isnull().sum().sum())"
      ]
    },
    {
      "cell_type": "markdown",
      "metadata": {
        "id": "Gl9Dq4QMTRwi"
      },
      "source": [
        "- cek tipe data setiap kolom"
      ]
    },
    {
      "cell_type": "code",
      "execution_count": 12,
      "metadata": {
        "colab": {
          "base_uri": "https://localhost:8080/"
        },
        "id": "LIi2ksGwUYng",
        "outputId": "da028862-6c92-4d55-be30-0d698b8907d8"
      },
      "outputs": [
        {
          "name": "stdout",
          "output_type": "stream",
          "text": [
            "order_id                object\n",
            "order_item_id            int64\n",
            "product_id              object\n",
            "seller_id               object\n",
            "shipping_limit_date     object\n",
            "price                  float64\n",
            "freight_value          float64\n",
            "dtype: object\n"
          ]
        }
      ],
      "source": [
        "print(df_order_item.dtypes)"
      ]
    },
    {
      "cell_type": "markdown",
      "metadata": {
        "id": "KhHvQeFhUkDq"
      },
      "source": []
    },
    {
      "cell_type": "markdown",
      "metadata": {
        "id": "zrmOfUkfUlLa"
      },
      "source": [
        "#### 3. Data Orders"
      ]
    },
    {
      "cell_type": "markdown",
      "metadata": {
        "id": "SusRYzIwUlLa"
      },
      "source": [
        "- menampilkan contoh 5 data"
      ]
    },
    {
      "cell_type": "code",
      "execution_count": 13,
      "metadata": {
        "colab": {
          "base_uri": "https://localhost:8080/"
        },
        "id": "GBmLxNvDUlLb",
        "outputId": "428f0679-f7ac-4f1a-bf70-98ed8fd4444d"
      },
      "outputs": [
        {
          "data": {
            "text/html": [
              "<div>\n",
              "<style scoped>\n",
              "    .dataframe tbody tr th:only-of-type {\n",
              "        vertical-align: middle;\n",
              "    }\n",
              "\n",
              "    .dataframe tbody tr th {\n",
              "        vertical-align: top;\n",
              "    }\n",
              "\n",
              "    .dataframe thead th {\n",
              "        text-align: right;\n",
              "    }\n",
              "</style>\n",
              "<table border=\"1\" class=\"dataframe\">\n",
              "  <thead>\n",
              "    <tr style=\"text-align: right;\">\n",
              "      <th></th>\n",
              "      <th>order_id</th>\n",
              "      <th>customer_id</th>\n",
              "      <th>order_status</th>\n",
              "      <th>order_purchase_timestamp</th>\n",
              "      <th>order_approved_at</th>\n",
              "      <th>order_delivered_carrier_date</th>\n",
              "      <th>order_delivered_customer_date</th>\n",
              "      <th>order_estimated_delivery_date</th>\n",
              "    </tr>\n",
              "  </thead>\n",
              "  <tbody>\n",
              "    <tr>\n",
              "      <th>0</th>\n",
              "      <td>e481f51cbdc54678b7cc49136f2d6af7</td>\n",
              "      <td>9ef432eb6251297304e76186b10a928d</td>\n",
              "      <td>delivered</td>\n",
              "      <td>2017-10-02 10:56:33</td>\n",
              "      <td>2017-10-02 11:07:15</td>\n",
              "      <td>2017-10-04 19:55:00</td>\n",
              "      <td>2017-10-10 21:25:13</td>\n",
              "      <td>2017-10-18 00:00:00</td>\n",
              "    </tr>\n",
              "    <tr>\n",
              "      <th>1</th>\n",
              "      <td>53cdb2fc8bc7dce0b6741e2150273451</td>\n",
              "      <td>b0830fb4747a6c6d20dea0b8c802d7ef</td>\n",
              "      <td>delivered</td>\n",
              "      <td>2018-07-24 20:41:37</td>\n",
              "      <td>2018-07-26 03:24:27</td>\n",
              "      <td>2018-07-26 14:31:00</td>\n",
              "      <td>2018-08-07 15:27:45</td>\n",
              "      <td>2018-08-13 00:00:00</td>\n",
              "    </tr>\n",
              "    <tr>\n",
              "      <th>2</th>\n",
              "      <td>47770eb9100c2d0c44946d9cf07ec65d</td>\n",
              "      <td>41ce2a54c0b03bf3443c3d931a367089</td>\n",
              "      <td>delivered</td>\n",
              "      <td>2018-08-08 08:38:49</td>\n",
              "      <td>2018-08-08 08:55:23</td>\n",
              "      <td>2018-08-08 13:50:00</td>\n",
              "      <td>2018-08-17 18:06:29</td>\n",
              "      <td>2018-09-04 00:00:00</td>\n",
              "    </tr>\n",
              "    <tr>\n",
              "      <th>3</th>\n",
              "      <td>949d5b44dbf5de918fe9c16f97b45f8a</td>\n",
              "      <td>f88197465ea7920adcdbec7375364d82</td>\n",
              "      <td>delivered</td>\n",
              "      <td>2017-11-18 19:28:06</td>\n",
              "      <td>2017-11-18 19:45:59</td>\n",
              "      <td>2017-11-22 13:39:59</td>\n",
              "      <td>2017-12-02 00:28:42</td>\n",
              "      <td>2017-12-15 00:00:00</td>\n",
              "    </tr>\n",
              "    <tr>\n",
              "      <th>4</th>\n",
              "      <td>ad21c59c0840e6cb83a9ceb5573f8159</td>\n",
              "      <td>8ab97904e6daea8866dbdbc4fb7aad2c</td>\n",
              "      <td>delivered</td>\n",
              "      <td>2018-02-13 21:18:39</td>\n",
              "      <td>2018-02-13 22:20:29</td>\n",
              "      <td>2018-02-14 19:46:34</td>\n",
              "      <td>2018-02-16 18:17:02</td>\n",
              "      <td>2018-02-26 00:00:00</td>\n",
              "    </tr>\n",
              "  </tbody>\n",
              "</table>\n",
              "</div>"
            ],
            "text/plain": [
              "                           order_id                       customer_id  \\\n",
              "0  e481f51cbdc54678b7cc49136f2d6af7  9ef432eb6251297304e76186b10a928d   \n",
              "1  53cdb2fc8bc7dce0b6741e2150273451  b0830fb4747a6c6d20dea0b8c802d7ef   \n",
              "2  47770eb9100c2d0c44946d9cf07ec65d  41ce2a54c0b03bf3443c3d931a367089   \n",
              "3  949d5b44dbf5de918fe9c16f97b45f8a  f88197465ea7920adcdbec7375364d82   \n",
              "4  ad21c59c0840e6cb83a9ceb5573f8159  8ab97904e6daea8866dbdbc4fb7aad2c   \n",
              "\n",
              "  order_status order_purchase_timestamp    order_approved_at  \\\n",
              "0    delivered      2017-10-02 10:56:33  2017-10-02 11:07:15   \n",
              "1    delivered      2018-07-24 20:41:37  2018-07-26 03:24:27   \n",
              "2    delivered      2018-08-08 08:38:49  2018-08-08 08:55:23   \n",
              "3    delivered      2017-11-18 19:28:06  2017-11-18 19:45:59   \n",
              "4    delivered      2018-02-13 21:18:39  2018-02-13 22:20:29   \n",
              "\n",
              "  order_delivered_carrier_date order_delivered_customer_date  \\\n",
              "0          2017-10-04 19:55:00           2017-10-10 21:25:13   \n",
              "1          2018-07-26 14:31:00           2018-08-07 15:27:45   \n",
              "2          2018-08-08 13:50:00           2018-08-17 18:06:29   \n",
              "3          2017-11-22 13:39:59           2017-12-02 00:28:42   \n",
              "4          2018-02-14 19:46:34           2018-02-16 18:17:02   \n",
              "\n",
              "  order_estimated_delivery_date  \n",
              "0           2017-10-18 00:00:00  \n",
              "1           2018-08-13 00:00:00  \n",
              "2           2018-09-04 00:00:00  \n",
              "3           2017-12-15 00:00:00  \n",
              "4           2018-02-26 00:00:00  "
            ]
          },
          "metadata": {},
          "output_type": "display_data"
        }
      ],
      "source": [
        "display(df_orders.head(5))"
      ]
    },
    {
      "cell_type": "markdown",
      "metadata": {
        "id": "PThzNH1fUlLb"
      },
      "source": [
        "- menampilkan jumlah data"
      ]
    },
    {
      "cell_type": "code",
      "execution_count": 14,
      "metadata": {
        "colab": {
          "base_uri": "https://localhost:8080/"
        },
        "id": "GHV-Fho-UlLb",
        "outputId": "23e9368f-6dff-44ae-853c-bb10f7d5a378"
      },
      "outputs": [
        {
          "name": "stdout",
          "output_type": "stream",
          "text": [
            "Jumlah data order : 99441\n"
          ]
        }
      ],
      "source": [
        "print(\"Jumlah data order :\",len(df_orders.index))"
      ]
    },
    {
      "cell_type": "markdown",
      "metadata": {
        "id": "3nUzP7RFUlLc"
      },
      "source": [
        "- cek apakah ada data null"
      ]
    },
    {
      "cell_type": "code",
      "execution_count": 15,
      "metadata": {
        "colab": {
          "base_uri": "https://localhost:8080/"
        },
        "id": "9nmlle5DUlLc",
        "outputId": "6c56374d-6945-4466-b885-b1c728291131"
      },
      "outputs": [
        {
          "name": "stdout",
          "output_type": "stream",
          "text": [
            "order_id                            0\n",
            "customer_id                         0\n",
            "order_status                        0\n",
            "order_purchase_timestamp            0\n",
            "order_approved_at                 160\n",
            "order_delivered_carrier_date     1783\n",
            "order_delivered_customer_date    2965\n",
            "order_estimated_delivery_date       0\n",
            "dtype: int64\n",
            "\n",
            "\n",
            "Jumlah data null: 4908\n"
          ]
        }
      ],
      "source": [
        "print(df_orders.isnull().sum())\n",
        "print(\"\\n\")\n",
        "print(\"Jumlah data null:\",df_orders.isnull().sum().sum())"
      ]
    },
    {
      "cell_type": "markdown",
      "metadata": {
        "id": "Up6UYQ3sUlLc"
      },
      "source": [
        "- cek tipe data setiap kolom"
      ]
    },
    {
      "cell_type": "code",
      "execution_count": 16,
      "metadata": {
        "colab": {
          "base_uri": "https://localhost:8080/"
        },
        "id": "DgHNrxYrUlLc",
        "outputId": "0f70cfda-ba3b-46b7-d2e8-ad1524d98417"
      },
      "outputs": [
        {
          "name": "stdout",
          "output_type": "stream",
          "text": [
            "order_id                         object\n",
            "customer_id                      object\n",
            "order_status                     object\n",
            "order_purchase_timestamp         object\n",
            "order_approved_at                object\n",
            "order_delivered_carrier_date     object\n",
            "order_delivered_customer_date    object\n",
            "order_estimated_delivery_date    object\n",
            "dtype: object\n"
          ]
        }
      ],
      "source": [
        "print(df_orders.dtypes)"
      ]
    },
    {
      "cell_type": "markdown",
      "metadata": {
        "id": "wi_tQqCgUkqr"
      },
      "source": []
    },
    {
      "cell_type": "markdown",
      "metadata": {
        "id": "-ryDw6d9U8l9"
      },
      "source": [
        "#### 4. Data Order Reviews"
      ]
    },
    {
      "cell_type": "markdown",
      "metadata": {
        "id": "8RuzUJW6U8l-"
      },
      "source": [
        "- menampilkan contoh 5 data"
      ]
    },
    {
      "cell_type": "code",
      "execution_count": 17,
      "metadata": {
        "colab": {
          "base_uri": "https://localhost:8080/"
        },
        "id": "ovd5gNiNU8l-",
        "outputId": "82eb7132-fed0-4d22-a84e-2dbc232fbb9e"
      },
      "outputs": [
        {
          "data": {
            "text/html": [
              "<div>\n",
              "<style scoped>\n",
              "    .dataframe tbody tr th:only-of-type {\n",
              "        vertical-align: middle;\n",
              "    }\n",
              "\n",
              "    .dataframe tbody tr th {\n",
              "        vertical-align: top;\n",
              "    }\n",
              "\n",
              "    .dataframe thead th {\n",
              "        text-align: right;\n",
              "    }\n",
              "</style>\n",
              "<table border=\"1\" class=\"dataframe\">\n",
              "  <thead>\n",
              "    <tr style=\"text-align: right;\">\n",
              "      <th></th>\n",
              "      <th>review_id</th>\n",
              "      <th>order_id</th>\n",
              "      <th>review_score</th>\n",
              "      <th>review_comment_title</th>\n",
              "      <th>review_comment_message</th>\n",
              "      <th>review_creation_date</th>\n",
              "      <th>review_answer_timestamp</th>\n",
              "    </tr>\n",
              "  </thead>\n",
              "  <tbody>\n",
              "    <tr>\n",
              "      <th>0</th>\n",
              "      <td>7bc2406110b926393aa56f80a40eba40</td>\n",
              "      <td>73fc7af87114b39712e6da79b0a377eb</td>\n",
              "      <td>4</td>\n",
              "      <td>NaN</td>\n",
              "      <td>NaN</td>\n",
              "      <td>2018-01-18 00:00:00</td>\n",
              "      <td>2018-01-18 21:46:59</td>\n",
              "    </tr>\n",
              "    <tr>\n",
              "      <th>1</th>\n",
              "      <td>80e641a11e56f04c1ad469d5645fdfde</td>\n",
              "      <td>a548910a1c6147796b98fdf73dbeba33</td>\n",
              "      <td>5</td>\n",
              "      <td>NaN</td>\n",
              "      <td>NaN</td>\n",
              "      <td>2018-03-10 00:00:00</td>\n",
              "      <td>2018-03-11 03:05:13</td>\n",
              "    </tr>\n",
              "    <tr>\n",
              "      <th>2</th>\n",
              "      <td>228ce5500dc1d8e020d8d1322874b6f0</td>\n",
              "      <td>f9e4b658b201a9f2ecdecbb34bed034b</td>\n",
              "      <td>5</td>\n",
              "      <td>NaN</td>\n",
              "      <td>NaN</td>\n",
              "      <td>2018-02-17 00:00:00</td>\n",
              "      <td>2018-02-18 14:36:24</td>\n",
              "    </tr>\n",
              "    <tr>\n",
              "      <th>3</th>\n",
              "      <td>e64fb393e7b32834bb789ff8bb30750e</td>\n",
              "      <td>658677c97b385a9be170737859d3511b</td>\n",
              "      <td>5</td>\n",
              "      <td>NaN</td>\n",
              "      <td>Recebi bem antes do prazo estipulado.</td>\n",
              "      <td>2017-04-21 00:00:00</td>\n",
              "      <td>2017-04-21 22:02:06</td>\n",
              "    </tr>\n",
              "    <tr>\n",
              "      <th>4</th>\n",
              "      <td>f7c4243c7fe1938f181bec41a392bdeb</td>\n",
              "      <td>8e6bfb81e283fa7e4f11123a3fb894f1</td>\n",
              "      <td>5</td>\n",
              "      <td>NaN</td>\n",
              "      <td>Parabéns lojas lannister adorei comprar pela I...</td>\n",
              "      <td>2018-03-01 00:00:00</td>\n",
              "      <td>2018-03-02 10:26:53</td>\n",
              "    </tr>\n",
              "  </tbody>\n",
              "</table>\n",
              "</div>"
            ],
            "text/plain": [
              "                          review_id                          order_id  \\\n",
              "0  7bc2406110b926393aa56f80a40eba40  73fc7af87114b39712e6da79b0a377eb   \n",
              "1  80e641a11e56f04c1ad469d5645fdfde  a548910a1c6147796b98fdf73dbeba33   \n",
              "2  228ce5500dc1d8e020d8d1322874b6f0  f9e4b658b201a9f2ecdecbb34bed034b   \n",
              "3  e64fb393e7b32834bb789ff8bb30750e  658677c97b385a9be170737859d3511b   \n",
              "4  f7c4243c7fe1938f181bec41a392bdeb  8e6bfb81e283fa7e4f11123a3fb894f1   \n",
              "\n",
              "   review_score review_comment_title  \\\n",
              "0             4                  NaN   \n",
              "1             5                  NaN   \n",
              "2             5                  NaN   \n",
              "3             5                  NaN   \n",
              "4             5                  NaN   \n",
              "\n",
              "                              review_comment_message review_creation_date  \\\n",
              "0                                                NaN  2018-01-18 00:00:00   \n",
              "1                                                NaN  2018-03-10 00:00:00   \n",
              "2                                                NaN  2018-02-17 00:00:00   \n",
              "3              Recebi bem antes do prazo estipulado.  2017-04-21 00:00:00   \n",
              "4  Parabéns lojas lannister adorei comprar pela I...  2018-03-01 00:00:00   \n",
              "\n",
              "  review_answer_timestamp  \n",
              "0     2018-01-18 21:46:59  \n",
              "1     2018-03-11 03:05:13  \n",
              "2     2018-02-18 14:36:24  \n",
              "3     2017-04-21 22:02:06  \n",
              "4     2018-03-02 10:26:53  "
            ]
          },
          "metadata": {},
          "output_type": "display_data"
        }
      ],
      "source": [
        "display(df_order_reviews.head(5))"
      ]
    },
    {
      "cell_type": "markdown",
      "metadata": {
        "id": "jwQATy4SU8l_"
      },
      "source": [
        "- menampilkan jumlah data"
      ]
    },
    {
      "cell_type": "code",
      "execution_count": 18,
      "metadata": {
        "colab": {
          "base_uri": "https://localhost:8080/"
        },
        "id": "u3-bb200U8l_",
        "outputId": "3317d01f-3a44-43eb-a8ae-c028e82d8d92"
      },
      "outputs": [
        {
          "name": "stdout",
          "output_type": "stream",
          "text": [
            "Jumlah data order reviews : 99224\n"
          ]
        }
      ],
      "source": [
        "print(\"Jumlah data order reviews :\",len(df_order_reviews.index))"
      ]
    },
    {
      "cell_type": "markdown",
      "metadata": {
        "id": "tAxcj_jWU8l_"
      },
      "source": [
        "- cek apakah ada data null"
      ]
    },
    {
      "cell_type": "code",
      "execution_count": 19,
      "metadata": {
        "colab": {
          "base_uri": "https://localhost:8080/"
        },
        "id": "OYBk66sVU8mA",
        "outputId": "b8792d81-22ef-4789-9413-5a55b680ba7b"
      },
      "outputs": [
        {
          "name": "stdout",
          "output_type": "stream",
          "text": [
            "review_id                      0\n",
            "order_id                       0\n",
            "review_score                   0\n",
            "review_comment_title       87656\n",
            "review_comment_message     58247\n",
            "review_creation_date           0\n",
            "review_answer_timestamp        0\n",
            "dtype: int64\n",
            "\n",
            "\n",
            "Jumlah data null: 145903\n"
          ]
        }
      ],
      "source": [
        "print(df_order_reviews.isnull().sum())\n",
        "print(\"\\n\")\n",
        "print(\"Jumlah data null:\",df_order_reviews.isnull().sum().sum())"
      ]
    },
    {
      "cell_type": "markdown",
      "metadata": {
        "id": "m2Ck_vJ5U8mA"
      },
      "source": [
        "- cek tipe data setiap kolom"
      ]
    },
    {
      "cell_type": "code",
      "execution_count": 20,
      "metadata": {
        "colab": {
          "base_uri": "https://localhost:8080/"
        },
        "id": "AnY_6GBMU8mA",
        "outputId": "4b27a60b-c0e2-4889-8876-e8ac477a688e"
      },
      "outputs": [
        {
          "name": "stdout",
          "output_type": "stream",
          "text": [
            "review_id                  object\n",
            "order_id                   object\n",
            "review_score                int64\n",
            "review_comment_title       object\n",
            "review_comment_message     object\n",
            "review_creation_date       object\n",
            "review_answer_timestamp    object\n",
            "dtype: object\n"
          ]
        }
      ],
      "source": [
        "print(df_order_reviews.dtypes)"
      ]
    },
    {
      "cell_type": "markdown",
      "metadata": {
        "id": "6yl0Ugh5Y9c0"
      },
      "source": []
    },
    {
      "cell_type": "markdown",
      "metadata": {
        "id": "eUliaHa0ZAHB"
      },
      "source": [
        "#### 5. Data Product Translate Name"
      ]
    },
    {
      "cell_type": "markdown",
      "metadata": {
        "id": "4RqQV_F3ZAHC"
      },
      "source": [
        "- menampilkan contoh 5 data"
      ]
    },
    {
      "cell_type": "code",
      "execution_count": 21,
      "metadata": {
        "colab": {
          "base_uri": "https://localhost:8080/"
        },
        "id": "T3O7ZhJ7ZAHC",
        "outputId": "f805aa4d-a637-4fd4-d96b-f5165c8872da"
      },
      "outputs": [
        {
          "data": {
            "text/html": [
              "<div>\n",
              "<style scoped>\n",
              "    .dataframe tbody tr th:only-of-type {\n",
              "        vertical-align: middle;\n",
              "    }\n",
              "\n",
              "    .dataframe tbody tr th {\n",
              "        vertical-align: top;\n",
              "    }\n",
              "\n",
              "    .dataframe thead th {\n",
              "        text-align: right;\n",
              "    }\n",
              "</style>\n",
              "<table border=\"1\" class=\"dataframe\">\n",
              "  <thead>\n",
              "    <tr style=\"text-align: right;\">\n",
              "      <th></th>\n",
              "      <th>product_category_name</th>\n",
              "      <th>product_category_name_english</th>\n",
              "    </tr>\n",
              "  </thead>\n",
              "  <tbody>\n",
              "    <tr>\n",
              "      <th>0</th>\n",
              "      <td>beleza_saude</td>\n",
              "      <td>health_beauty</td>\n",
              "    </tr>\n",
              "    <tr>\n",
              "      <th>1</th>\n",
              "      <td>informatica_acessorios</td>\n",
              "      <td>computers_accessories</td>\n",
              "    </tr>\n",
              "    <tr>\n",
              "      <th>2</th>\n",
              "      <td>automotivo</td>\n",
              "      <td>auto</td>\n",
              "    </tr>\n",
              "    <tr>\n",
              "      <th>3</th>\n",
              "      <td>cama_mesa_banho</td>\n",
              "      <td>bed_bath_table</td>\n",
              "    </tr>\n",
              "    <tr>\n",
              "      <th>4</th>\n",
              "      <td>moveis_decoracao</td>\n",
              "      <td>furniture_decor</td>\n",
              "    </tr>\n",
              "  </tbody>\n",
              "</table>\n",
              "</div>"
            ],
            "text/plain": [
              "    product_category_name product_category_name_english\n",
              "0            beleza_saude                 health_beauty\n",
              "1  informatica_acessorios         computers_accessories\n",
              "2              automotivo                          auto\n",
              "3         cama_mesa_banho                bed_bath_table\n",
              "4        moveis_decoracao               furniture_decor"
            ]
          },
          "metadata": {},
          "output_type": "display_data"
        }
      ],
      "source": [
        "display(df_product_translate_name.head(5))"
      ]
    },
    {
      "cell_type": "markdown",
      "metadata": {
        "id": "yE0dSjoyZAHD"
      },
      "source": [
        "- menampilkan jumlah data"
      ]
    },
    {
      "cell_type": "code",
      "execution_count": 22,
      "metadata": {
        "colab": {
          "base_uri": "https://localhost:8080/"
        },
        "id": "DLSR4axpZAHD",
        "outputId": "09c718f5-7fbd-4325-aa2e-c234fc0c7bf2"
      },
      "outputs": [
        {
          "name": "stdout",
          "output_type": "stream",
          "text": [
            "Jumlah data product translate name : 71\n"
          ]
        }
      ],
      "source": [
        "print(\"Jumlah data product translate name :\",len(df_product_translate_name.index))"
      ]
    },
    {
      "cell_type": "markdown",
      "metadata": {
        "id": "qC-PZIDXZAHE"
      },
      "source": [
        "- cek apakah ada data null"
      ]
    },
    {
      "cell_type": "code",
      "execution_count": 23,
      "metadata": {
        "colab": {
          "base_uri": "https://localhost:8080/"
        },
        "id": "D_ogy4nTZAHE",
        "outputId": "ea7512bf-3b9d-435e-f4d7-0ac99389be2e"
      },
      "outputs": [
        {
          "name": "stdout",
          "output_type": "stream",
          "text": [
            "product_category_name            0\n",
            "product_category_name_english    0\n",
            "dtype: int64\n",
            "\n",
            "\n",
            "Jumlah data null: 0\n"
          ]
        }
      ],
      "source": [
        "print(df_product_translate_name.isnull().sum())\n",
        "print(\"\\n\")\n",
        "print(\"Jumlah data null:\",df_product_translate_name.isnull().sum().sum())"
      ]
    },
    {
      "cell_type": "markdown",
      "metadata": {
        "id": "S_oHTXOBZAHE"
      },
      "source": [
        "- cek tipe data setiap kolom"
      ]
    },
    {
      "cell_type": "code",
      "execution_count": 24,
      "metadata": {
        "colab": {
          "base_uri": "https://localhost:8080/"
        },
        "id": "hra1RpHlZAHE",
        "outputId": "d3f99c36-dfc2-4b91-c0fd-1606c8cf03b8"
      },
      "outputs": [
        {
          "name": "stdout",
          "output_type": "stream",
          "text": [
            "product_category_name            object\n",
            "product_category_name_english    object\n",
            "dtype: object\n"
          ]
        }
      ],
      "source": [
        "print(df_product_translate_name.dtypes)"
      ]
    },
    {
      "cell_type": "markdown",
      "metadata": {
        "id": "EhN5R4hr8DC1"
      },
      "source": [
        "### Cleaning Data"
      ]
    },
    {
      "cell_type": "markdown",
      "metadata": {
        "id": "nW9ars3jWUIa"
      },
      "source": [
        "- Drop data product_category_name yang memiliki value null pada data produk\n",
        "\n"
      ]
    },
    {
      "cell_type": "code",
      "execution_count": 25,
      "metadata": {
        "id": "jVnYpprE9Evz"
      },
      "outputs": [],
      "source": [
        "df_products.dropna(axis=0, inplace=True, subset=['product_category_name'])\n"
      ]
    },
    {
      "cell_type": "markdown",
      "metadata": {
        "id": "Q_5ejIqckiSP"
      },
      "source": [
        "- Drop data order yang memiliki null"
      ]
    },
    {
      "cell_type": "code",
      "execution_count": 26,
      "metadata": {
        "id": "huX0kZW8Z6rj"
      },
      "outputs": [],
      "source": [
        "df_orders.dropna(axis=0, inplace=True)"
      ]
    },
    {
      "cell_type": "markdown",
      "metadata": {
        "id": "5M6YMgZNaQsf"
      },
      "source": [
        "- Imputation data order review yang tidak ada comment"
      ]
    },
    {
      "cell_type": "code",
      "execution_count": 27,
      "metadata": {
        "id": "aGWduG17aP6P"
      },
      "outputs": [],
      "source": [
        "df_order_reviews.fillna(value=\"no comment\", inplace=True)\n"
      ]
    },
    {
      "cell_type": "markdown",
      "metadata": {
        "id": "9rSHLOOlcxgC"
      },
      "source": [
        "- Menyesuaikan tipe data"
      ]
    },
    {
      "cell_type": "code",
      "execution_count": 28,
      "metadata": {
        "id": "C5JV5W8HfT5a"
      },
      "outputs": [],
      "source": [
        "df_order_item['shipping_limit_date'] = pd.to_datetime(df_order_item['shipping_limit_date'], format='mixed')\n"
      ]
    },
    {
      "cell_type": "code",
      "execution_count": 29,
      "metadata": {
        "id": "mEU7VWtqZ-5b"
      },
      "outputs": [],
      "source": [
        "columns = [\"order_purchase_timestamp\",\"order_approved_at\", \"order_delivered_carrier_date\", \"order_delivered_customer_date\", \"order_estimated_delivery_date\"]\n",
        "for column in columns:\n",
        "    df_orders[column] = pd.to_datetime(df_orders[column])"
      ]
    },
    {
      "cell_type": "markdown",
      "metadata": {
        "id": "gp-Y6wU38DC1"
      },
      "source": [
        "## Exploratory Data Analysis (EDA)"
      ]
    },
    {
      "cell_type": "markdown",
      "metadata": {
        "id": "qK0uw420QW76"
      },
      "source": [
        "### Explore All Data"
      ]
    },
    {
      "cell_type": "markdown",
      "metadata": {
        "id": "ZyaGBIDCQW77"
      },
      "source": [
        "- Menggabungkan tabel orders dan tabel Order_item"
      ]
    },
    {
      "cell_type": "code",
      "execution_count": 31,
      "metadata": {
        "id": "vCHtEGsoQW78"
      },
      "outputs": [],
      "source": [
        "df_orders_order_item = pd.merge(\n",
        "    left=df_orders,\n",
        "    right=df_order_item,\n",
        "    how=\"inner\",\n",
        "    left_on=\"order_id\",\n",
        "    right_on=\"order_id\"\n",
        ")"
      ]
    },
    {
      "cell_type": "markdown",
      "metadata": {
        "id": "rYwljZCdQW78"
      },
      "source": [
        "- Menggabungkan tabel products dan tabel products_translate_name"
      ]
    },
    {
      "cell_type": "code",
      "execution_count": 34,
      "metadata": {
        "id": "2JzMs8l7QW78"
      },
      "outputs": [],
      "source": [
        "df_products_translate_English = pd.merge(\n",
        "    left=df_products,\n",
        "    right=df_product_translate_name,\n",
        "    how=\"inner\",\n",
        "    left_on=\"product_category_name\",\n",
        "    right_on=\"product_category_name\"\n",
        ")"
      ]
    },
    {
      "cell_type": "markdown",
      "metadata": {
        "id": "RyrtfLzSQW79"
      },
      "source": [
        "- menggabungkan tabel product_translate_english dan tabel orders_order_item"
      ]
    },
    {
      "cell_type": "code",
      "execution_count": 35,
      "metadata": {
        "id": "Wa4ndnibQW79"
      },
      "outputs": [],
      "source": [
        "df_products_translate_English_orders_order_item = pd.merge(\n",
        "    left=df_products_translate_English,\n",
        "    right=df_orders_order_item,\n",
        "    how=\"inner\",\n",
        "    left_on=\"product_id\",\n",
        "    right_on=\"product_id\"\n",
        ")"
      ]
    },
    {
      "cell_type": "markdown",
      "metadata": {
        "id": "Nkbd9OYKQW79"
      },
      "source": [
        "- Membuat sebuah tabel bernama all_data dengan menggabungkan tabel products_translate_english_orders_order_item dan tabel oders_review"
      ]
    },
    {
      "cell_type": "code",
      "execution_count": 36,
      "metadata": {
        "id": "TDuVGSRHQW7-"
      },
      "outputs": [],
      "source": [
        "df_all_data = pd.merge(\n",
        "    left=df_products_translate_English_orders_order_item,\n",
        "    right=df_order_reviews,\n",
        "    how=\"inner\",\n",
        "    left_on=\"order_id\",\n",
        "    right_on=\"order_id\"\n",
        ")\n"
      ]
    },
    {
      "cell_type": "markdown",
      "metadata": {
        "id": "qZI9Dn1CQW7-"
      },
      "source": [
        "- Menyimpan tabel all_data menjadi file csv"
      ]
    },
    {
      "cell_type": "code",
      "execution_count": 37,
      "metadata": {
        "id": "8vQ3P6zTQW7_"
      },
      "outputs": [],
      "source": [
        "df_all_data.to_csv('dashboard/MainData.csv', index=False)"
      ]
    },
    {
      "cell_type": "markdown",
      "metadata": {
        "id": "7pC8Uniu8DLg"
      },
      "source": [
        "### Explore monthly order count (2017)"
      ]
    },
    {
      "cell_type": "markdown",
      "metadata": {
        "id": "mFxudAgn87lM"
      },
      "source": [
        "- Ambil data perbulan dengan grouping berdasarkan bulan pada tahun 2017"
      ]
    },
    {
      "cell_type": "code",
      "execution_count": 38,
      "metadata": {
        "colab": {
          "base_uri": "https://localhost:8080/"
        },
        "id": "gATtJABq8CAP",
        "outputId": "5a2d405c-6625-4829-db79-3efba1b123c1"
      },
      "outputs": [
        {
          "data": {
            "text/plain": [
              "order_purchase_timestamp\n",
              "January       729\n",
              "February     1582\n",
              "March        2478\n",
              "April        2228\n",
              "May          3437\n",
              "June         3060\n",
              "July         3795\n",
              "August       4102\n",
              "September    4058\n",
              "October      4396\n",
              "November     7135\n",
              "December     5333\n",
              "Name: order_id, dtype: int64"
            ]
          },
          "execution_count": 38,
          "metadata": {},
          "output_type": "execute_result"
        }
      ],
      "source": [
        "group_month = df_all_data['order_purchase_timestamp'].dt.to_period(\"M\")\n",
        "monthly_order_2017 = df_all_data.loc[df_all_data['order_purchase_timestamp'].dt.year == 2017].groupby(group_month).order_id.nunique()\n",
        "month_mapping = {\n",
        "    1: 'January', 2: 'February', 3: 'March', 4: 'April',\n",
        "    5: 'May', 6: 'June', 7: 'July', 8: 'August',\n",
        "    9: 'September', 10: 'October', 11: 'November', 12: 'December'\n",
        "}\n",
        "monthly_order_2017.index = monthly_order_2017.index.month.map(month_mapping)\n",
        "monthly_order_2017\n"
      ]
    },
    {
      "cell_type": "markdown",
      "metadata": {
        "id": "MW7WF2kr8DC1"
      },
      "source": [
        "### Explore products category (July 2018)"
      ]
    },
    {
      "cell_type": "markdown",
      "metadata": {
        "id": "mwv75P1whc-H"
      },
      "source": [
        "- Menampilkan top 10 kategori product pada bulan juli tahun 2018\n",
        "\n",
        "\n"
      ]
    },
    {
      "cell_type": "code",
      "execution_count": 39,
      "metadata": {
        "colab": {
          "base_uri": "https://localhost:8080/"
        },
        "id": "e9CQCZjk8DC2",
        "outputId": "d52ab66a-99f9-48f9-e76d-e611db34b30e"
      },
      "outputs": [
        {
          "data": {
            "text/plain": [
              "product_category_name_english\n",
              "health_beauty            695\n",
              "bed_bath_table           508\n",
              "watches_gifts            499\n",
              "housewares               459\n",
              "sports_leisure           409\n",
              "computers_accessories    381\n",
              "furniture_decor          340\n",
              "auto                     324\n",
              "baby                     205\n",
              "telephony                201\n",
              "Name: order_id, dtype: int64"
            ]
          },
          "execution_count": 39,
          "metadata": {},
          "output_type": "execute_result"
        }
      ],
      "source": [
        "df_july_2018 = df_all_data.loc[df_all_data['order_purchase_timestamp'].dt.to_period('M') == '2018-7']\n",
        "\n",
        "top_ten_product_category_july_2018 = df_july_2018.groupby(by=\"product_category_name_english\").order_id.nunique().sort_values(ascending=False).head(10)\n",
        "\n",
        "top_ten_product_category_july_2018\n"
      ]
    },
    {
      "cell_type": "markdown",
      "metadata": {
        "id": "wW_Nm-n8nrVL"
      },
      "source": [
        "### Explore order review every year"
      ]
    },
    {
      "cell_type": "markdown",
      "metadata": {
        "id": "RU7o6UGysg6x"
      },
      "source": [
        "- Mencari nilai rata-rata order review tiap tahun"
      ]
    },
    {
      "cell_type": "code",
      "execution_count": 40,
      "metadata": {
        "colab": {
          "base_uri": "https://localhost:8080/"
        },
        "id": "kwC_pAAVoATp",
        "outputId": "5587c0ac-426c-46d6-efe0-e359d567b4fa"
      },
      "outputs": [
        {
          "data": {
            "text/plain": [
              "year\n",
              "2016    3.853583\n",
              "2017    4.110937\n",
              "2018    4.061859\n",
              "Name: review_score, dtype: float64"
            ]
          },
          "execution_count": 40,
          "metadata": {},
          "output_type": "execute_result"
        }
      ],
      "source": [
        "df_all_data['year'] = df_all_data['order_purchase_timestamp'].dt.year\n",
        "avg_review_per_year = df_all_data.groupby('year')['review_score'].mean()\n",
        "avg_review_per_year"
      ]
    },
    {
      "cell_type": "markdown",
      "metadata": {
        "id": "zsyZjqak8DC2"
      },
      "source": [
        "## Visualization & Explanatory Analysis"
      ]
    },
    {
      "cell_type": "markdown",
      "metadata": {
        "id": "HZxOiQ6n8DC2"
      },
      "source": [
        "### Pertanyaan 1: Pada bulan apa mencapai penjualan produk terbanyak pada tahun 2017?\n"
      ]
    },
    {
      "cell_type": "code",
      "execution_count": 42,
      "metadata": {
        "colab": {
          "base_uri": "https://localhost:8080/",
          "height": 538
        },
        "id": "1swJUdAD8DC2",
        "outputId": "e981d843-8837-47c2-b4f9-c529e0d48ffa"
      },
      "outputs": [
        {
          "data": {
            "image/png": "[encoded data removed]",
            "text/plain": [
              "<Figure size 640x480 with 1 Axes>"
            ]
          },
          "metadata": {},
          "output_type": "display_data"
        },
        {
          "name": "stdout",
          "output_type": "stream",
          "text": [
            "\n",
            "Jumlah terbanyak pada bulan November dengan jumlah product terjual : 7135\n"
          ]
        }
      ],
      "source": [
        "jumlah_terbanyak = monthly_order_2017.max()\n",
        "bulan_terbanyak = monthly_order_2017.idxmax()\n",
        "colors = ['blue' if month != bulan_terbanyak else 'green' for month in monthly_order_2017.index]\n",
        "monthly_order_2017.plot(kind =\"bar\",color=colors )\n",
        "\n",
        "plt.title('Monthly Orders in 2017')\n",
        "plt.xlabel('Month')\n",
        "plt.xticks(rotation=25)\n",
        "plt.ylabel('Number of Orders')\n",
        "\n",
        "\n",
        "plt.show()\n",
        "\n",
        "print(\"\\nJumlah terbanyak pada bulan {} dengan jumlah product terjual : {}\".format(bulan_terbanyak,jumlah_terbanyak))"
      ]
    },
    {
      "cell_type": "markdown",
      "metadata": {},
      "source": [
        "**Insight:**\n",
        "- Berdasarkan hasil analisis, Bulan November menunjukkan jumlah pesanan tertinggi, dengan 7.135 order, diikuti oleh Desember dengan 5.333 order. Ini bisa menunjukkan adanya lonjakan pesanan menjelang akhir tahun."
      ]
    },
    {
      "cell_type": "markdown",
      "metadata": {
        "id": "DgHI7CiU8DC2"
      },
      "source": [
        "### Pertanyaan 2: Apa saja 10 kategori produk yang paling banyak terjual pada bulan juli tahun 2018?"
      ]
    },
    {
      "cell_type": "code",
      "execution_count": 65,
      "metadata": {
        "colab": {
          "base_uri": "https://localhost:8080/",
          "height": 428
        },
        "id": "Go0lCsvO8DC2",
        "outputId": "de07d7af-1cd2-4428-94ed-c40a65db3c32"
      },
      "outputs": [
        {
          "data": {
            "image/png": "[encoded data removed]",
            "text/plain": [
              "<Figure size 640x480 with 1 Axes>"
            ]
          },
          "metadata": {},
          "output_type": "display_data"
        }
      ],
      "source": [
        "top_ten_product_category_july_2018.plot.pie(y='Number of Orders', labels=top_ten_product_category_july_2018.index, autopct='%1.1f%%', legend=False)\n",
        "plt.title('Top 10 Product Category in July 2018')\n",
        "max_label_length = max([len(label) for label in top_ten_product_category_july_2018.index])\n",
        "max_value_length = max([len(str(order)) for order in top_ten_product_category_july_2018.values])\n",
        "labels_with_sales = [f'{label:<{max_label_length}} : {order:>{max_value_length}}' for label, order in zip(top_ten_product_category_july_2018.index, top_ten_product_category_july_2018.values)]\n",
        "top_ten_product_category_july_2018.plot.pie(y=top_ten_product_category_july_2018.values, labels=top_ten_product_category_july_2018.index, autopct='%1.1f%%', legend=False)\n",
        "plt.legend(labels_with_sales, loc='center left', bbox_to_anchor=(1.2, 0.5))\n",
        "\n",
        "plt.ylabel('')\n",
        "plt.show()"
      ]
    },
    {
      "cell_type": "markdown",
      "metadata": {},
      "source": [
        "**Insight:**\n",
        "- Dari data hasil analisis bisa dilihat Health_Beauty adalah kategori yang paling banyak dipesan dengan (695) pesanan, diikuti oleh Bed_Bath_Table (508) dan Watches_Gifts (499). Kategori Housewares dan Sports_Leisure juga cukup populer dengan pesanan masing-masing (459) dan (409).\n",
        "- Pasar teratas terbagi antara kebutuhan pribadi (kecantikan, kesehatan), rumah tangga, serta gaya hidup (watches_gifts, sports_leisure). Ini menunjukkan bahwa ada keseimbangan antara kategori barang konsumsi dan barang kebutuhan rumah pada bulan july 2018."
      ]
    },
    {
      "cell_type": "markdown",
      "metadata": {
        "id": "_0-36BDLklRg"
      },
      "source": [
        "### Pertanyaan 3: Bagaimana perkembangan rata-rata tingkat kepuasan yang diberikan customer tiap tahun?"
      ]
    },
    {
      "cell_type": "code",
      "execution_count": 39,
      "metadata": {
        "colab": {
          "base_uri": "https://localhost:8080/",
          "height": 472
        },
        "id": "tnouB3HL-8pk",
        "outputId": "2c491149-6602-4ee4-ee77-7e188b82ffd8"
      },
      "outputs": [
        {
          "data": {
            "image/png": "[encoded data removed]",
            "text/plain": [
              "<Figure size 640x480 with 1 Axes>"
            ]
          },
          "metadata": {},
          "output_type": "display_data"
        }
      ],
      "source": [
        "avg_review_per_year.plot()\n",
        "plt.title('Average Review Score per Year')\n",
        "plt.xlabel('Year')\n",
        "plt.xticks(ticks=[2016, 2017, 2018], labels=['2016', '2017', '2018'])\n",
        "plt.ylabel('Average Review Score')\n",
        "plt.show()"
      ]
    },
    {
      "cell_type": "markdown",
      "metadata": {},
      "source": [
        "**Insight:**\n",
        "- Berdasarkan grafik analisis data terjadi peningkatan signifikan pada review score dari 2016 ke 2017. Ini menunjukkan adanya perbaikan dalam kualitas yang dinilai oleh pengguna selama periode tersebut.\n",
        "- Meskipun nilai review pada 2017 lebih tinggi, terjadi sedikit penurunan pada 2018. Namun, skor ini masih lebih tinggi dibandingkan dengan 2016."
      ]
    },
    {
      "cell_type": "markdown",
      "metadata": {
        "id": "_WeHlCeX8DC2"
      },
      "source": [
        "## Conclusion"
      ]
    },
    {
      "cell_type": "markdown",
      "metadata": {
        "id": "ZTcyR48Y8DC2"
      },
      "source": [
        "- Conclution pertanyaan 1 : Pada bulan apa mencapai penjualan tertinggi pada tahun 2017?\n",
        "\n",
        " Penjualan product terbanyak pada tahun 2017 adalah pada bulan november dengan jumlah product terjual : 7135"
      ]
    },
    {
      "cell_type": "markdown",
      "metadata": {
        "id": "iNcjHJuD0C38"
      },
      "source": [
        "- Conclution pertanyaan 2 : Apa saja 10 kategori produk yang paling banyak terjual pada bulan juli tahun 2018?\n",
        "\n",
        " Top 10 kategori product yang paling banyak terjual pada bulan juli tahun 2018 :\n",
        "1. health_beauty : 695\n",
        "2. bed_bath_table : 508\n",
        "3. watches_gifts\t: 499\n",
        "4. housewares\t: 459\n",
        "5. sports_leisure\t: 409\n",
        "6. computers_accessories\t: 381\n",
        "7. furniture_decor\t: 340\n",
        "8. auto\t: 324\n",
        "9. baby\t: 205\n",
        "10. telephony\t: 201\n",
        "\n"
      ]
    },
    {
      "cell_type": "markdown",
      "metadata": {
        "id": "Vj-Ev0gY0Dle"
      },
      "source": [
        "- Conclution pertanyaan 3 : Bagaimana perkembangan rata-rata tingkat kepuasan yang diberikan customer tiap tahun?\n",
        "\n",
        " Perkembangan rata-rata tingkat kepuasan dari tahun :\n",
        "\n",
        " 2016 = 3.85\n",
        "\n",
        " 2017 = 4.11\n",
        "\n",
        " 2018 = 4.06\n",
        "\n",
        " terlihat pada tahun 2016-2017 terjadi pengingkatan rata-rata kepuasan customer, dan pada tahun 2017-2018 terjadi sedikit penurunan rata-rata kepuasan customer.\n",
        " \n",
        " Secara keseluruhan, review score menunjukkan tren yang relatif stabil, dengan fluktuasi kecil dalam peningkatan dan penurunan dari tahun ke tahun. Ini bisa menunjukkan bahwa kualitas produk atau layanan tetap konsisten selama periode tersebut."
      ]
    }
  ],
  "metadata": {
    "colab": {
      "collapsed_sections": [
        "eE0raob58DC0",
        "H-z4QGlO8DC1",
        "h_Sh51Xy8DC1",
        "sXU2GBYu8DC1",
        "FHSiqaZp8DC1",
        "TamigA3DPIME",
        "ik7Wy9ezS51L",
        "zrmOfUkfUlLa",
        "-ryDw6d9U8l9",
        "eUliaHa0ZAHB",
        "EhN5R4hr8DC1",
        "qK0uw420QW76",
        "7pC8Uniu8DLg",
        "MW7WF2kr8DC1",
        "wW_Nm-n8nrVL",
        "HZxOiQ6n8DC2",
        "DgHI7CiU8DC2",
        "_0-36BDLklRg",
        "_WeHlCeX8DC2"
      ],
      "provenance": []
    },
    "kernelspec": {
      "display_name": "Python 3",
      "language": "python",
      "name": "python3"
    },
    "language_info": {
      "codemirror_mode": {
        "name": "ipython",
        "version": 3
      },
      "file_extension": ".py",
      "mimetype": "text/x-python",
      "name": "python",
      "nbconvert_exporter": "python",
      "pygments_lexer": "ipython3",
      "version": "3.12.4"
    },
    "orig_nbformat": 4,
    "vscode": {
      "interpreter": {
        "hash": "972b3bf27e332e87b5379f2791f6ef9dfc79c71018c370b0d7423235e20fe4d7"
      }
    }
  },
  "nbformat": 4,
  "nbformat_minor": 0
}
